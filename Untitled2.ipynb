{
  "nbformat": 4,
  "nbformat_minor": 0,
  "metadata": {
    "colab": {
      "provenance": [],
      "authorship_tag": "ABX9TyMTgkVb3QZiBiACPMUgvW4X",
      "include_colab_link": true
    },
    "kernelspec": {
      "name": "python3",
      "display_name": "Python 3"
    },
    "language_info": {
      "name": "python"
    }
  },
  "cells": [
    {
      "cell_type": "markdown",
      "metadata": {
        "id": "view-in-github",
        "colab_type": "text"
      },
      "source": [
        "<a href=\"https://colab.research.google.com/github/Salman024/Make-Doraemon-with-Python/blob/main/Untitled2.ipynb\" target=\"_parent\"><img src=\"https://colab.research.google.com/assets/colab-badge.svg\" alt=\"Open In Colab\"/></a>"
      ]
    },
    {
      "cell_type": "code",
      "execution_count": 1,
      "metadata": {
        "id": "Ko3XEUwUSoaS"
      },
      "outputs": [],
      "source": [
        "import numpy as np\n",
        "import pandas as pd\n",
        "\n",
        "# Set random seed for reproducibility\n",
        "np.random.seed(42)\n",
        "\n",
        "# Generate fictional sales data\n",
        "num_entries = 100\n",
        "dates = pd.date_range(start='2023-01-01', periods=num_entries, freq='D')\n",
        "products = ['Product A', 'Product B', 'Product C']\n",
        "sales_data = {\n",
        "    'Date': np.random.choice(dates, num_entries),\n",
        "    'Product': np.random.choice(products, num_entries),\n",
        "    'Units Sold': np.random.randint(1, 50, num_entries),\n",
        "    'Revenue': np.random.uniform(100, 1000, num_entries)\n",
        "}\n",
        "\n",
        "sales_df = pd.DataFrame(sales_data)\n"
      ]
    },
    {
      "cell_type": "code",
      "source": [
        "# Display first few rows of the DataFrame\n",
        "print(sales_df.head())\n",
        "\n",
        "# Display summary statistics\n",
        "print(sales_df.describe())\n",
        "\n",
        "# Display data types of columns\n",
        "print(sales_df.dtypes)\n",
        "\n",
        "# Check for missing values\n",
        "print(sales_df.isnull().sum())\n"
      ],
      "metadata": {
        "colab": {
          "base_uri": "https://localhost:8080/"
        },
        "id": "msf65B0BSwiv",
        "outputId": "7e6256b4-0fea-42af-b42f-0e55da5ffb5e"
      },
      "execution_count": 2,
      "outputs": [
        {
          "output_type": "stream",
          "name": "stdout",
          "text": [
            "        Date    Product  Units Sold     Revenue\n",
            "0 2023-02-21  Product B           6  907.399234\n",
            "1 2023-04-03  Product A           8  898.377782\n",
            "2 2023-01-15  Product A          27  801.887991\n",
            "3 2023-03-13  Product A           9  677.828482\n",
            "4 2023-03-02  Product A          37  175.725968\n",
            "       Units Sold     Revenue\n",
            "count  100.000000  100.000000\n",
            "mean    24.500000  580.601317\n",
            "std     14.995285  264.601087\n",
            "min      1.000000  104.555425\n",
            "25%     11.000000  362.646277\n",
            "50%     25.500000  616.134275\n",
            "75%     37.000000  815.550981\n",
            "max     49.000000  991.048465\n",
            "Date          datetime64[ns]\n",
            "Product               object\n",
            "Units Sold             int64\n",
            "Revenue              float64\n",
            "dtype: object\n",
            "Date          0\n",
            "Product       0\n",
            "Units Sold    0\n",
            "Revenue       0\n",
            "dtype: int64\n"
          ]
        }
      ]
    },
    {
      "cell_type": "code",
      "source": [
        "# Group data by product and calculate total units sold and revenue\n",
        "product_summary = sales_df.groupby('Product').agg({\n",
        "    'Units Sold': 'sum',\n",
        "    'Revenue': 'sum'\n",
        "}).reset_index()\n",
        "\n",
        "print(product_summary)\n"
      ],
      "metadata": {
        "colab": {
          "base_uri": "https://localhost:8080/"
        },
        "id": "6fIyi-iSS4SS",
        "outputId": "eabd0327-612b-40a1-d3e8-9f57ffc6d2f9"
      },
      "execution_count": 3,
      "outputs": [
        {
          "output_type": "stream",
          "name": "stdout",
          "text": [
            "     Product  Units Sold       Revenue\n",
            "0  Product A         997  22466.320704\n",
            "1  Product B         444  14840.090337\n",
            "2  Product C        1009  20753.720662\n"
          ]
        }
      ]
    },
    {
      "cell_type": "code",
      "source": [
        "# Filter data for a specific product\n",
        "product_a_data = sales_df[sales_df['Product'] == 'Product A']\n",
        "\n",
        "# Select rows where units sold are greater than 30\n",
        "high_sales_data = sales_df[sales_df['Units Sold'] > 30]\n"
      ],
      "metadata": {
        "id": "YtfUTqkgS8WS"
      },
      "execution_count": 4,
      "outputs": []
    },
    {
      "cell_type": "code",
      "source": [
        "# Set the 'Date' column as the index\n",
        "sales_df.set_index('Date', inplace=True)\n",
        "\n",
        "# Resample data to get monthly sales\n",
        "monthly_sales = sales_df.resample('M').agg({\n",
        "    'Units Sold': 'sum',\n",
        "    'Revenue': 'sum'\n",
        "})\n",
        "\n",
        "print(monthly_sales)\n"
      ],
      "metadata": {
        "colab": {
          "base_uri": "https://localhost:8080/"
        },
        "id": "mb8bkvh-TAj7",
        "outputId": "a92a3d79-5255-4511-b4c6-6018da49bf4c"
      },
      "execution_count": 5,
      "outputs": [
        {
          "output_type": "stream",
          "name": "stdout",
          "text": [
            "            Units Sold       Revenue\n",
            "Date                                \n",
            "2023-01-31         728  16728.919675\n",
            "2023-02-28         532  15570.940327\n",
            "2023-03-31        1007  21143.108608\n",
            "2023-04-30         183   4617.163093\n"
          ]
        }
      ]
    }
  ]
}